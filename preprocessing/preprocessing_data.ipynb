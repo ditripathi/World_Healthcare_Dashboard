{
 "cells": [
  {
   "cell_type": "code",
   "execution_count": 1,
   "metadata": {},
   "outputs": [],
   "source": [
    "import pandas as pd"
   ]
  },
  {
   "cell_type": "code",
   "execution_count": 41,
   "metadata": {},
   "outputs": [],
   "source": [
    "\n",
    "birth_rate_df = pd.read_csv(\"../Raw Datasets/birth-rate.csv\") # (births per 1,000 population)\n",
    "infant_mortality_df = pd.read_csv(\"../Raw Datasets/infant-mortality.csv\") # (per 1,000 live births)\n",
    "life_expectancy_gdp = pd.read_csv(\"../Raw Datasets/life-expectancy-vs-gdp-per-capita.csv\")\n"
   ]
  },
  {
   "cell_type": "code",
   "execution_count": 72,
   "metadata": {},
   "outputs": [
    {
     "data": {
      "text/html": [
       "<div>\n",
       "<style scoped>\n",
       "    .dataframe tbody tr th:only-of-type {\n",
       "        vertical-align: middle;\n",
       "    }\n",
       "\n",
       "    .dataframe tbody tr th {\n",
       "        vertical-align: top;\n",
       "    }\n",
       "\n",
       "    .dataframe thead th {\n",
       "        text-align: right;\n",
       "    }\n",
       "</style>\n",
       "<table border=\"1\" class=\"dataframe\">\n",
       "  <thead>\n",
       "    <tr style=\"text-align: right;\">\n",
       "      <th></th>\n",
       "      <th>Entity</th>\n",
       "      <th>Code</th>\n",
       "      <th>Year</th>\n",
       "      <th>BirthRate</th>\n",
       "      <th>Mortality rate</th>\n",
       "      <th>Life expectancy</th>\n",
       "      <th>GDP per capita</th>\n",
       "      <th>Population (historical estimates)</th>\n",
       "    </tr>\n",
       "  </thead>\n",
       "  <tbody>\n",
       "    <tr>\n",
       "      <th>0</th>\n",
       "      <td>Afghanistan</td>\n",
       "      <td>AFG</td>\n",
       "      <td>1950.0</td>\n",
       "      <td>49.991</td>\n",
       "      <td>23.20</td>\n",
       "      <td>27.638</td>\n",
       "      <td>1156.0</td>\n",
       "      <td>7752117.0</td>\n",
       "    </tr>\n",
       "    <tr>\n",
       "      <th>1</th>\n",
       "      <td>Afghanistan</td>\n",
       "      <td>AFG</td>\n",
       "      <td>1951.0</td>\n",
       "      <td>50.076</td>\n",
       "      <td>22.78</td>\n",
       "      <td>27.878</td>\n",
       "      <td>1170.0</td>\n",
       "      <td>7840151.0</td>\n",
       "    </tr>\n",
       "    <tr>\n",
       "      <th>2</th>\n",
       "      <td>Afghanistan</td>\n",
       "      <td>AFG</td>\n",
       "      <td>1952.0</td>\n",
       "      <td>50.241</td>\n",
       "      <td>22.39</td>\n",
       "      <td>28.361</td>\n",
       "      <td>1189.0</td>\n",
       "      <td>7935996.0</td>\n",
       "    </tr>\n",
       "    <tr>\n",
       "      <th>3</th>\n",
       "      <td>Afghanistan</td>\n",
       "      <td>AFG</td>\n",
       "      <td>1953.0</td>\n",
       "      <td>50.399</td>\n",
       "      <td>21.99</td>\n",
       "      <td>28.852</td>\n",
       "      <td>1240.0</td>\n",
       "      <td>8039684.0</td>\n",
       "    </tr>\n",
       "    <tr>\n",
       "      <th>4</th>\n",
       "      <td>Afghanistan</td>\n",
       "      <td>AFG</td>\n",
       "      <td>1954.0</td>\n",
       "      <td>50.548</td>\n",
       "      <td>21.61</td>\n",
       "      <td>29.350</td>\n",
       "      <td>1245.0</td>\n",
       "      <td>8151316.0</td>\n",
       "    </tr>\n",
       "  </tbody>\n",
       "</table>\n",
       "</div>"
      ],
      "text/plain": [
       "        Entity Code    Year  BirthRate  Mortality rate  Life expectancy  \\\n",
       "0  Afghanistan  AFG  1950.0     49.991           23.20           27.638   \n",
       "1  Afghanistan  AFG  1951.0     50.076           22.78           27.878   \n",
       "2  Afghanistan  AFG  1952.0     50.241           22.39           28.361   \n",
       "3  Afghanistan  AFG  1953.0     50.399           21.99           28.852   \n",
       "4  Afghanistan  AFG  1954.0     50.548           21.61           29.350   \n",
       "\n",
       "   GDP per capita  Population (historical estimates)  \n",
       "0          1156.0                          7752117.0  \n",
       "1          1170.0                          7840151.0  \n",
       "2          1189.0                          7935996.0  \n",
       "3          1240.0                          8039684.0  \n",
       "4          1245.0                          8151316.0  "
      ]
     },
     "execution_count": 72,
     "metadata": {},
     "output_type": "execute_result"
    }
   ],
   "source": [
    "merged_df = birth_rate_df.merge(infant_mortality_df, left_index=True, right_index=True,\n",
    "                 how='outer', suffixes=('', '_y'))\n",
    "merged_df.drop(merged_df.filter(regex='_y$').columns.tolist(),axis=1, inplace=True)\n",
    "\n",
    "merged_df = merged_df.merge(life_expectancy_gdp, left_index=True, right_index=True,\n",
    "                 how='outer', suffixes=('', '_y'))\n",
    "merged_df.drop(merged_df.filter(regex='_y$').columns.tolist(),axis=1, inplace=True)\n",
    "\n"
   ]
  },
  {
   "cell_type": "code",
   "execution_count": 34,
   "metadata": {},
   "outputs": [],
   "source": [
    "birth_rate_df_2000_2019 = birth_rate_df[(birth_rate_df[\"Year\"]>=2000) & (birth_rate_df[\"Year\"]<=2019)]\n",
    "birth_rate_df_2000_2019_g = birth_rate_df_2000_2019.groupby([\"Entity\",\"Code\"]).count().reset_index()"
   ]
  },
  {
   "cell_type": "code",
   "execution_count": 42,
   "metadata": {},
   "outputs": [],
   "source": [
    "infant_mortality_df_2000_2019 = infant_mortality_df[(infant_mortality_df[\"Year\"]>=2000) & (infant_mortality_df[\"Year\"]<=2019)]\n",
    "infant_mortality_df_2000_2019_g = infant_mortality_df_2000_2019.groupby([\"Entity\",\"Code\"]).count().reset_index()"
   ]
  },
  {
   "cell_type": "code",
   "execution_count": 45,
   "metadata": {},
   "outputs": [],
   "source": [
    "life_expectancy_gdp_2000_2019 = life_expectancy_gdp[(life_expectancy_gdp[\"Year\"]>=2000) & (life_expectancy_gdp[\"Year\"]<=2019)]\n",
    "life_expectancy_gdp_2000_2019_g = life_expectancy_gdp_2000_2019.groupby([\"Entity\",\"Code\"]).count().reset_index()"
   ]
  },
  {
   "cell_type": "code",
   "execution_count": 74,
   "metadata": {},
   "outputs": [],
   "source": [
    "le_20_country = set(life_expectancy_gdp_2000_2019_g[life_expectancy_gdp_2000_2019_g[\"Life expectancy\"]==20][\"Entity\"])\n",
    "mr_20_country = set(infant_mortality_df_2000_2019_g[infant_mortality_df_2000_2019_g[\"Mortality rate\"]==20][\"Entity\"])\n",
    "br_20_country = set(birth_rate_df_2000_2019_g[birth_rate_df_2000_2019_g[\"BirthRate\"]==20][\"Entity\"])\n"
   ]
  },
  {
   "cell_type": "code",
   "execution_count": 75,
   "metadata": {},
   "outputs": [],
   "source": [
    "countries_list = list(le_20_country.intersection(mr_20_country).intersection(br_20_country))\n"
   ]
  },
  {
   "cell_type": "code",
   "execution_count": 77,
   "metadata": {},
   "outputs": [],
   "source": [
    "final_df = merged_df[merged_df[\"Entity\"].isin(countries_list)]\n",
    "final_df.head()\n",
    "final_df.to_csv(\"../Raw Datasets/Barplot_Dataset.csv\")"
   ]
  },
  {
   "cell_type": "code",
   "execution_count": 78,
   "metadata": {},
   "outputs": [
    {
     "data": {
      "text/html": [
       "<div>\n",
       "<style scoped>\n",
       "    .dataframe tbody tr th:only-of-type {\n",
       "        vertical-align: middle;\n",
       "    }\n",
       "\n",
       "    .dataframe tbody tr th {\n",
       "        vertical-align: top;\n",
       "    }\n",
       "\n",
       "    .dataframe thead th {\n",
       "        text-align: right;\n",
       "    }\n",
       "</style>\n",
       "<table border=\"1\" class=\"dataframe\">\n",
       "  <thead>\n",
       "    <tr style=\"text-align: right;\">\n",
       "      <th></th>\n",
       "      <th>Entity</th>\n",
       "      <th>Code</th>\n",
       "      <th>Year</th>\n",
       "      <th>BirthRate</th>\n",
       "      <th>Mortality rate</th>\n",
       "      <th>Life expectancy</th>\n",
       "      <th>GDP per capita</th>\n",
       "      <th>Population (historical estimates)</th>\n",
       "    </tr>\n",
       "  </thead>\n",
       "  <tbody>\n",
       "    <tr>\n",
       "      <th>0</th>\n",
       "      <td>Afghanistan</td>\n",
       "      <td>AFG</td>\n",
       "      <td>1950.0</td>\n",
       "      <td>49.991</td>\n",
       "      <td>23.20</td>\n",
       "      <td>27.638</td>\n",
       "      <td>1156.0</td>\n",
       "      <td>7752117.0</td>\n",
       "    </tr>\n",
       "    <tr>\n",
       "      <th>1</th>\n",
       "      <td>Afghanistan</td>\n",
       "      <td>AFG</td>\n",
       "      <td>1951.0</td>\n",
       "      <td>50.076</td>\n",
       "      <td>22.78</td>\n",
       "      <td>27.878</td>\n",
       "      <td>1170.0</td>\n",
       "      <td>7840151.0</td>\n",
       "    </tr>\n",
       "    <tr>\n",
       "      <th>2</th>\n",
       "      <td>Afghanistan</td>\n",
       "      <td>AFG</td>\n",
       "      <td>1952.0</td>\n",
       "      <td>50.241</td>\n",
       "      <td>22.39</td>\n",
       "      <td>28.361</td>\n",
       "      <td>1189.0</td>\n",
       "      <td>7935996.0</td>\n",
       "    </tr>\n",
       "    <tr>\n",
       "      <th>3</th>\n",
       "      <td>Afghanistan</td>\n",
       "      <td>AFG</td>\n",
       "      <td>1953.0</td>\n",
       "      <td>50.399</td>\n",
       "      <td>21.99</td>\n",
       "      <td>28.852</td>\n",
       "      <td>1240.0</td>\n",
       "      <td>8039684.0</td>\n",
       "    </tr>\n",
       "    <tr>\n",
       "      <th>4</th>\n",
       "      <td>Afghanistan</td>\n",
       "      <td>AFG</td>\n",
       "      <td>1954.0</td>\n",
       "      <td>50.548</td>\n",
       "      <td>21.61</td>\n",
       "      <td>29.350</td>\n",
       "      <td>1245.0</td>\n",
       "      <td>8151316.0</td>\n",
       "    </tr>\n",
       "  </tbody>\n",
       "</table>\n",
       "</div>"
      ],
      "text/plain": [
       "        Entity Code    Year  BirthRate  Mortality rate  Life expectancy  \\\n",
       "0  Afghanistan  AFG  1950.0     49.991           23.20           27.638   \n",
       "1  Afghanistan  AFG  1951.0     50.076           22.78           27.878   \n",
       "2  Afghanistan  AFG  1952.0     50.241           22.39           28.361   \n",
       "3  Afghanistan  AFG  1953.0     50.399           21.99           28.852   \n",
       "4  Afghanistan  AFG  1954.0     50.548           21.61           29.350   \n",
       "\n",
       "   GDP per capita  Population (historical estimates)  \n",
       "0          1156.0                          7752117.0  \n",
       "1          1170.0                          7840151.0  \n",
       "2          1189.0                          7935996.0  \n",
       "3          1240.0                          8039684.0  \n",
       "4          1245.0                          8151316.0  "
      ]
     },
     "execution_count": 78,
     "metadata": {},
     "output_type": "execute_result"
    }
   ],
   "source": [
    "final_df.head()"
   ]
  },
  {
   "cell_type": "code",
   "execution_count": null,
   "metadata": {},
   "outputs": [],
   "source": []
  }
 ],
 "metadata": {
  "interpreter": {
   "hash": "228722e590874f4cfbbfe0e424754f3da60436e50b4bd6a8bed0091dafdd8337"
  },
  "kernelspec": {
   "display_name": "Python 3.8.0 ('cse-564-project-env': venv)",
   "language": "python",
   "name": "python3"
  },
  "language_info": {
   "codemirror_mode": {
    "name": "ipython",
    "version": 3
   },
   "file_extension": ".py",
   "mimetype": "text/x-python",
   "name": "python",
   "nbconvert_exporter": "python",
   "pygments_lexer": "ipython3",
   "version": "3.8.0"
  },
  "orig_nbformat": 4
 },
 "nbformat": 4,
 "nbformat_minor": 2
}
